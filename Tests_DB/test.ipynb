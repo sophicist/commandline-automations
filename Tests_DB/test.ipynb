{
 "cells": [
  {
   "cell_type": "code",
   "execution_count": 20,
   "metadata": {},
   "outputs": [
    {
     "ename": "OperationalError",
     "evalue": "could not receive data from server: Software caused connection abort (0x00002745/10053)\nSSL SYSCALL error: Software caused connection abort (0x00002745/10053)\n",
     "output_type": "error",
     "traceback": [
      "\u001b[1;31m---------------------------------------------------------------------------\u001b[0m",
      "\u001b[1;31mOperationalError\u001b[0m                          Traceback (most recent call last)",
      "Cell \u001b[1;32mIn[20], line 34\u001b[0m\n\u001b[0;32m     32\u001b[0m \u001b[38;5;66;03m# Perform database operations\u001b[39;00m\n\u001b[0;32m     33\u001b[0m \u001b[38;5;28;01mwith\u001b[39;00m conn\u001b[38;5;241m.\u001b[39mcursor() \u001b[38;5;28;01mas\u001b[39;00m cursor:\n\u001b[1;32m---> 34\u001b[0m     \u001b[43mcursor\u001b[49m\u001b[38;5;241;43m.\u001b[39;49m\u001b[43mexecute\u001b[49m\u001b[43m(\u001b[49m\u001b[38;5;124;43m\"\u001b[39;49m\u001b[38;5;124;43mSELECT version();\u001b[39;49m\u001b[38;5;124;43m\"\u001b[39;49m\u001b[43m)\u001b[49m\n\u001b[0;32m     35\u001b[0m     version \u001b[38;5;241m=\u001b[39m cursor\u001b[38;5;241m.\u001b[39mfetchone()\n\u001b[0;32m     36\u001b[0m     \u001b[38;5;28mprint\u001b[39m(\u001b[38;5;124m\"\u001b[39m\u001b[38;5;124mDatabase version:\u001b[39m\u001b[38;5;124m\"\u001b[39m, version)\n",
      "\u001b[1;31mOperationalError\u001b[0m: could not receive data from server: Software caused connection abort (0x00002745/10053)\nSSL SYSCALL error: Software caused connection abort (0x00002745/10053)\n"
     ]
    }
   ],
   "source": [
    "from sshtunnel import SSHTunnelForwarder\n",
    "import psycopg2\n",
    "\n",
    "# SSH and database configuration\n",
    "SSH_HOST = 'ec2-15-206-213-216.ap-south-1.compute.amazonaws.com'\n",
    "SSH_PORT = 22\n",
    "SSH_USERNAME = 'ec2-user'\n",
    "SSH_KEY_PATH = 'data-team-access.pem'\n",
    "\n",
    "DB_HOST = 'finbit-credit-score.caogcoqaksrr.ap-south-1.rds.amazonaws.com'  # Assuming the PostgreSQL server is accessible via the SSH host\n",
    "DB_PORT = 5432\n",
    "DB_USER = 'postgres'\n",
    "DB_PASSWORD = 'hAPS06Ixda8bee675lVq'\n",
    "DB_NAME = 'finbit_credit_score'\n",
    "\n",
    "# Establishing SSH tunnel\n",
    "with SSHTunnelForwarder(\n",
    "        (SSH_HOST, SSH_PORT),\n",
    "        ssh_username=SSH_USERNAME,\n",
    "        ssh_pkey=SSH_KEY_PATH,\n",
    "        remote_bind_address=(DB_HOST, DB_PORT)\n",
    ") as tunnel:\n",
    "    # Connect to PostgreSQL\n",
    "    conn = psycopg2.connect(\n",
    "        host='localhost',  # Localhost here refers to the local end of the tunnel\n",
    "        port=tunnel.local_bind_port,  # Use the dynamically assigned local port\n",
    "        user=DB_USER,\n",
    "        password=DB_PASSWORD,\n",
    "        dbname=DB_NAME\n",
    "    )\n",
    "    \n",
    "# Perform database operations\n",
    "with conn.cursor() as cursor:\n",
    "    cursor.execute(\"SELECT version();\")\n",
    "    version = cursor.fetchone()\n",
    "    print(\"Database version:\", version)"
   ]
  },
  {
   "cell_type": "code",
   "execution_count": 12,
   "metadata": {},
   "outputs": [
    {
     "ename": "OperationalError",
     "evalue": "could not receive data from server: Software caused connection abort (0x00002745/10053)\nSSL SYSCALL error: Software caused connection abort (0x00002745/10053)\n",
     "output_type": "error",
     "traceback": [
      "\u001b[1;31m---------------------------------------------------------------------------\u001b[0m",
      "\u001b[1;31mOperationalError\u001b[0m                          Traceback (most recent call last)",
      "Cell \u001b[1;32mIn[12], line 3\u001b[0m\n\u001b[0;32m      1\u001b[0m \u001b[38;5;66;03m# Perform database operations\u001b[39;00m\n\u001b[0;32m      2\u001b[0m \u001b[38;5;28;01mwith\u001b[39;00m conn\u001b[38;5;241m.\u001b[39mcursor() \u001b[38;5;28;01mas\u001b[39;00m cursor:\n\u001b[1;32m----> 3\u001b[0m     \u001b[43mcursor\u001b[49m\u001b[38;5;241;43m.\u001b[39;49m\u001b[43mexecute\u001b[49m\u001b[43m(\u001b[49m\u001b[38;5;124;43m\"\u001b[39;49m\u001b[38;5;124;43mSELECT id from incomes limit 5;\u001b[39;49m\u001b[38;5;124;43m\"\u001b[39;49m\u001b[43m)\u001b[49m\n\u001b[0;32m      4\u001b[0m     version \u001b[38;5;241m=\u001b[39m cursor\u001b[38;5;241m.\u001b[39mfetchone()\n\u001b[0;32m      5\u001b[0m     \u001b[38;5;28mprint\u001b[39m(\u001b[38;5;124m\"\u001b[39m\u001b[38;5;124mDatabase version:\u001b[39m\u001b[38;5;124m\"\u001b[39m, version)\n",
      "\u001b[1;31mOperationalError\u001b[0m: could not receive data from server: Software caused connection abort (0x00002745/10053)\nSSL SYSCALL error: Software caused connection abort (0x00002745/10053)\n"
     ]
    }
   ],
   "source": [
    "\n"
   ]
  },
  {
   "cell_type": "code",
   "execution_count": null,
   "metadata": {},
   "outputs": [],
   "source": []
  }
 ],
 "metadata": {
  "kernelspec": {
   "display_name": "Tests_DB-oOkcGjvi",
   "language": "python",
   "name": "python3"
  },
  "language_info": {
   "codemirror_mode": {
    "name": "ipython",
    "version": 3
   },
   "file_extension": ".py",
   "mimetype": "text/x-python",
   "name": "python",
   "nbconvert_exporter": "python",
   "pygments_lexer": "ipython3",
   "version": "3.11.4"
  }
 },
 "nbformat": 4,
 "nbformat_minor": 2
}
